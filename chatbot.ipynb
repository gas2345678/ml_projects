{
 "cells": [
  {
   "cell_type": "code",
   "execution_count": 1,
   "id": "ccf1746b",
   "metadata": {},
   "outputs": [],
   "source": [
    "import nltk\n",
    "from nltk.tokenize import word_tokenize,sent_tokenize"
   ]
  },
  {
   "cell_type": "markdown",
   "id": "6c51001b",
   "metadata": {},
   "source": [
    "We use a sample text for the tokenize task"
   ]
  },
  {
   "cell_type": "code",
   "execution_count": 2,
   "id": "f32d65f7",
   "metadata": {},
   "outputs": [],
   "source": [
    "text= \"Hello everyone, welcome to the world of Natural Language Processing. Let's explore tokenization.\""
   ]
  },
  {
   "cell_type": "code",
   "execution_count": 3,
   "id": "189cceb3",
   "metadata": {},
   "outputs": [
    {
     "name": "stdout",
     "output_type": "stream",
     "text": [
      "['Hello', 'everyone', ',', 'welcome', 'to', 'the', 'world', 'of', 'Natural', 'Language', 'Processing.', 'Let', \"'s\", 'explore', 'tokenization', '.']\n"
     ]
    }
   ],
   "source": [
    "tokenized_text = word_tokenize(text,language=\"english\",preserve_line=True)\n",
    "print(tokenized_text)"
   ]
  },
  {
   "cell_type": "markdown",
   "id": "6c7c8b72",
   "metadata": {},
   "source": [
    "Now, we will show a demo of a sentiment analysis for a text sample, identifying positives or negatives feelings."
   ]
  },
  {
   "cell_type": "code",
   "execution_count": null,
   "id": "72828329",
   "metadata": {},
   "outputs": [],
   "source": []
  },
  {
   "cell_type": "code",
   "execution_count": 14,
   "id": "0f067591",
   "metadata": {},
   "outputs": [
    {
     "name": "stdout",
     "output_type": "stream",
     "text": [
      "{'neg': 0.0, 'neu': 0.304, 'pos': 0.696, 'compound': 0.9094}\n"
     ]
    }
   ],
   "source": [
    "from nltk.sentiment import SentimentIntensityAnalyzer\n",
    "\n",
    "sia = SentimentIntensityAnalyzer()\n",
    "\n",
    "sample_text = \"I love programming! It's so much fun and rewarding.\"\n",
    "sentiment_scores = sia.polarity_scores(sample_text)\n",
    "print(sentiment_scores)"
   ]
  },
  {
   "cell_type": "code",
   "execution_count": 4,
   "id": "8dadd327",
   "metadata": {},
   "outputs": [],
   "source": [
    "import tensorflow as tf\n",
    "from tensorflow.keras.layers import Dense\n",
    "from tensorflow.keras.models import Sequential"
   ]
  },
  {
   "cell_type": "markdown",
   "id": "43b9e4b9",
   "metadata": {},
   "source": [
    "We build the model structure for the training phase"
   ]
  },
  {
   "cell_type": "code",
   "execution_count": null,
   "id": "af182c7a",
   "metadata": {},
   "outputs": [
    {
     "name": "stderr",
     "output_type": "stream",
     "text": [
      "c:\\Users\\PC\\AppData\\Local\\Programs\\Python\\Python313\\Lib\\site-packages\\keras\\src\\layers\\core\\dense.py:92: UserWarning: Do not pass an `input_shape`/`input_dim` argument to a layer. When using Sequential models, prefer using an `Input(shape)` object as the first layer in the model instead.\n",
      "  super().__init__(activity_regularizer=activity_regularizer, **kwargs)\n"
     ]
    }
   ],
   "source": [
    "model = Sequential([\n",
    "    Dense(64, activation='relu', input_shape=(100)),\n",
    "    Dense(32, activation='relu'),\n",
    "    Dense(10, activation='softmax')\n",
    "])"
   ]
  },
  {
   "cell_type": "markdown",
   "id": "ce0d81de",
   "metadata": {},
   "source": [
    "Compile the models"
   ]
  },
  {
   "cell_type": "code",
   "execution_count": null,
   "id": "a7c23206",
   "metadata": {},
   "outputs": [],
   "source": [
    "model.compile(optimizer='adam', loss='categorical_crossentropy', metrics=['accuracy'])"
   ]
  }
 ],
 "metadata": {
  "kernelspec": {
   "display_name": "Python 3",
   "language": "python",
   "name": "python3"
  },
  "language_info": {
   "codemirror_mode": {
    "name": "ipython",
    "version": 3
   },
   "file_extension": ".py",
   "mimetype": "text/x-python",
   "name": "python",
   "nbconvert_exporter": "python",
   "pygments_lexer": "ipython3",
   "version": "3.13.7"
  }
 },
 "nbformat": 4,
 "nbformat_minor": 5
}

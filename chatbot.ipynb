{
 "cells": [
  {
   "cell_type": "code",
   "execution_count": null,
   "id": "09cd423e",
   "metadata": {},
   "outputs": [],
   "source": [
    "from nltk.tokenize import word_tokenize \n",
    "from nltk.corpus import stopwords"
   ]
  },
  {
   "cell_type": "markdown",
   "id": "ec8d5bcf",
   "metadata": {},
   "source": [
    "We will create a simple function to tokenize a text sample and remove their stopwords.\n",
    "\n",
    "This will be our first step for the chatbot creation."
   ]
  },
  {
   "cell_type": "code",
   "execution_count": 3,
   "id": "97f7fc89",
   "metadata": {},
   "outputs": [],
   "source": [
    "def process_text(text):\n",
    "\n",
    "    \n",
    "    #Tokenize the text into words\n",
    "    tokens = word_tokenize(text)\n",
    "\n",
    "    #Remove stopwords\n",
    "    stop_words = set(stopwords.words(\"english\"))\n",
    "    filtered_tokens = [word for word in tokens if word.lower() not in stop_words]\n",
    "\n",
    "    return filtered_tokens"
   ]
  },
  {
   "cell_type": "markdown",
   "id": "581f84e0",
   "metadata": {},
   "source": [
    "Now, we will import the necessary libraries for the machine learning model that will we create."
   ]
  },
  {
   "cell_type": "code",
   "execution_count": 4,
   "id": "bbf5d0ae",
   "metadata": {},
   "outputs": [],
   "source": [
    "import spacy\n",
    "from tensorflow.keras.models import Sequential\n",
    "from tensorflow.keras.layers import Dense"
   ]
  }
 ],
 "metadata": {
  "kernelspec": {
   "display_name": "Python 3",
   "language": "python",
   "name": "python3"
  },
  "language_info": {
   "codemirror_mode": {
    "name": "ipython",
    "version": 3
   },
   "file_extension": ".py",
   "mimetype": "text/x-python",
   "name": "python",
   "nbconvert_exporter": "python",
   "pygments_lexer": "ipython3",
   "version": "3.13.7"
  }
 },
 "nbformat": 4,
 "nbformat_minor": 5
}

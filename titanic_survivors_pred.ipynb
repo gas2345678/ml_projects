{
 "cells": [
  {
   "cell_type": "markdown",
   "id": "12ec8314",
   "metadata": {},
   "source": [
    "### Titanic analysis\n",
    "This project will focus on setting logistic regression model focusing on the Titanic dataset.\n",
    "\n",
    "The model will try to classify if the passenger survive or not depending on the important variables which can influence in this result."
   ]
  },
  {
   "cell_type": "code",
   "execution_count": 33,
   "id": "b17a47fe",
   "metadata": {},
   "outputs": [],
   "source": [
    "import pandas as pd\n",
    "import sklearn\n",
    "from sklearn.model_selection import train_test_split,GridSearchCV\n",
    "from sklearn.metrics import accuracy_score\n"
   ]
  },
  {
   "cell_type": "code",
   "execution_count": 34,
   "id": "8cf01222",
   "metadata": {},
   "outputs": [],
   "source": [
    "\n",
    "#We import the dataset\n",
    "df = pd.read_csv(r\"..\\ml_projects\\ml_datasets\\Titanic-Dataset.csv\")"
   ]
  },
  {
   "cell_type": "code",
   "execution_count": 35,
   "id": "aa138fdb",
   "metadata": {},
   "outputs": [],
   "source": [
    "#We create a dataframe\n",
    "df = pd.DataFrame(df)"
   ]
  },
  {
   "cell_type": "code",
   "execution_count": 36,
   "id": "af253152",
   "metadata": {},
   "outputs": [],
   "source": [
    "#drop null values\n",
    "df = df.dropna()"
   ]
  },
  {
   "cell_type": "code",
   "execution_count": 37,
   "id": "ccc14667",
   "metadata": {},
   "outputs": [
    {
     "name": "stdout",
     "output_type": "stream",
     "text": [
      "    PassengerId  Survived  Pclass  \\\n",
      "1             2         1       1   \n",
      "3             4         1       1   \n",
      "6             7         0       1   \n",
      "10           11         1       3   \n",
      "11           12         1       1   \n",
      "\n",
      "                                                 Name     Sex   Age  SibSp  \\\n",
      "1   Cumings, Mrs. John Bradley (Florence Briggs Th...  female  38.0      1   \n",
      "3        Futrelle, Mrs. Jacques Heath (Lily May Peel)  female  35.0      1   \n",
      "6                             McCarthy, Mr. Timothy J    male  54.0      0   \n",
      "10                    Sandstrom, Miss. Marguerite Rut  female   4.0      1   \n",
      "11                           Bonnell, Miss. Elizabeth  female  58.0      0   \n",
      "\n",
      "    Parch    Ticket     Fare Cabin Embarked  \n",
      "1       0  PC 17599  71.2833   C85        C  \n",
      "3       0    113803  53.1000  C123        S  \n",
      "6       0     17463  51.8625   E46        S  \n",
      "10      1   PP 9549  16.7000    G6        S  \n",
      "11      0    113783  26.5500  C103        S  \n"
     ]
    }
   ],
   "source": [
    "\n",
    "#We display the first few rows of the dataframe\n",
    "print(df.head())"
   ]
  },
  {
   "cell_type": "code",
   "execution_count": 38,
   "id": "d2d3a3d1",
   "metadata": {},
   "outputs": [
    {
     "name": "stdout",
     "output_type": "stream",
     "text": [
      "(183, 12)\n"
     ]
    }
   ],
   "source": [
    "#Display the shape of the dataframe\n",
    "print(df.shape)"
   ]
  },
  {
   "cell_type": "code",
   "execution_count": 39,
   "id": "33cba239",
   "metadata": {},
   "outputs": [
    {
     "name": "stdout",
     "output_type": "stream",
     "text": [
      "Key aspects\n",
      "       PassengerId    Survived      Pclass         Age       SibSp  \\\n",
      "count   183.000000  183.000000  183.000000  183.000000  183.000000   \n",
      "mean    455.366120    0.672131    1.191257   35.674426    0.464481   \n",
      "std     247.052476    0.470725    0.515187   15.643866    0.644159   \n",
      "min       2.000000    0.000000    1.000000    0.920000    0.000000   \n",
      "25%     263.500000    0.000000    1.000000   24.000000    0.000000   \n",
      "50%     457.000000    1.000000    1.000000   36.000000    0.000000   \n",
      "75%     676.000000    1.000000    1.000000   47.500000    1.000000   \n",
      "max     890.000000    1.000000    3.000000   80.000000    3.000000   \n",
      "\n",
      "            Parch        Fare  \n",
      "count  183.000000  183.000000  \n",
      "mean     0.475410   78.682469  \n",
      "std      0.754617   76.347843  \n",
      "min      0.000000    0.000000  \n",
      "25%      0.000000   29.700000  \n",
      "50%      0.000000   57.000000  \n",
      "75%      1.000000   90.000000  \n",
      "max      4.000000  512.329200  \n",
      "<class 'pandas.core.frame.DataFrame'>\n",
      "Index: 183 entries, 1 to 889\n",
      "Data columns (total 12 columns):\n",
      " #   Column       Non-Null Count  Dtype  \n",
      "---  ------       --------------  -----  \n",
      " 0   PassengerId  183 non-null    int64  \n",
      " 1   Survived     183 non-null    int64  \n",
      " 2   Pclass       183 non-null    int64  \n",
      " 3   Name         183 non-null    object \n",
      " 4   Sex          183 non-null    object \n",
      " 5   Age          183 non-null    float64\n",
      " 6   SibSp        183 non-null    int64  \n",
      " 7   Parch        183 non-null    int64  \n",
      " 8   Ticket       183 non-null    object \n",
      " 9   Fare         183 non-null    float64\n",
      " 10  Cabin        183 non-null    object \n",
      " 11  Embarked     183 non-null    object \n",
      "dtypes: float64(2), int64(5), object(5)\n",
      "memory usage: 18.6+ KB\n",
      "None\n"
     ]
    }
   ],
   "source": [
    "#Overview of the dataframe\n",
    "print(\"Key aspects\")\n",
    "print(df.describe())\n",
    "print(df.info())"
   ]
  },
  {
   "cell_type": "code",
   "execution_count": 40,
   "id": "764e8519",
   "metadata": {},
   "outputs": [],
   "source": [
    "#Change sex values to 0 and 1\n",
    "\n",
    "df[\"Sex\"] = df[\"Sex\"].map({\"male\": 0, \"female\": 1})"
   ]
  },
  {
   "cell_type": "markdown",
   "id": "e8bfe612",
   "metadata": {},
   "source": [
    "We will drop variables like PassengerId or Ticket cause they don´t have any relevance in the survival probability"
   ]
  },
  {
   "cell_type": "code",
   "execution_count": 41,
   "id": "8ce01777",
   "metadata": {},
   "outputs": [],
   "source": [
    "#Use the important columns for the analysis\n",
    "\n",
    "x=  df.drop(columns=[\"Ticket\",\"Cabin\",\"Fare\",\"Name\",\"PassengerId\",\"SibSp\",\"Parch\",\"Age\",\"Survived\",\"Embarked\"])\n",
    "\n",
    "y=df[\"Survived\"]"
   ]
  },
  {
   "cell_type": "code",
   "execution_count": 42,
   "id": "8a9f8e7f",
   "metadata": {},
   "outputs": [],
   "source": [
    "\n",
    "#Divide our train and test data \n",
    "\n",
    "x_train,x_test,y_train,y_test = train_test_split(x,y,test_size=0.25)"
   ]
  },
  {
   "cell_type": "markdown",
   "id": "2daed997",
   "metadata": {},
   "source": [
    "Here is an overview of the training data and the testing data of the model."
   ]
  },
  {
   "cell_type": "code",
   "execution_count": 43,
   "id": "2ef7eb77",
   "metadata": {},
   "outputs": [
    {
     "name": "stdout",
     "output_type": "stream",
     "text": [
      "Training data\n",
      "     Pclass  Sex\n",
      "218       1    1\n",
      "587       1    0\n",
      "523       1    1\n",
      "717       2    1\n",
      "23        1    0\n",
      "Testing data\n",
      "     Pclass  Sex\n",
      "515       1    0\n",
      "3         1    1\n",
      "742       1    1\n",
      "336       1    0\n",
      "311       1    1\n"
     ]
    }
   ],
   "source": [
    "#Training and testing overview\n",
    "\n",
    "print(\"Training data\")\n",
    "print(x_train.head())\n",
    "print(\"Testing data\")\n",
    "print(x_test.head())"
   ]
  },
  {
   "cell_type": "code",
   "execution_count": 44,
   "id": "9511b751",
   "metadata": {},
   "outputs": [],
   "source": [
    "\n",
    "#Create an instance of the logistic regression model\n",
    "lg_model = LogisticRegression()\n"
   ]
  },
  {
   "cell_type": "code",
   "execution_count": 45,
   "id": "0d0bfd1e",
   "metadata": {},
   "outputs": [],
   "source": [
    "\n",
    "# Fit the model with the  training data\n",
    "lg_model.fit(x_train,y_train)\n",
    "obj_predicted = lg_model.predict(x_test)\n",
    "acc_score = accuracy_score(y_test,obj_predicted)"
   ]
  },
  {
   "cell_type": "code",
   "execution_count": 46,
   "id": "02e42d1e",
   "metadata": {},
   "outputs": [
    {
     "name": "stdout",
     "output_type": "stream",
     "text": [
      "Results of predictions:\n",
      "[0 1 1 0 1 0 0 0 1 1 0 0 1 0 1 1 1 0 1 0 1 0 1 1 1 0 0 0 0 0 0 0 1 0 0 1 0\n",
      " 1 0 1 1 1 1 0 0 0]\n",
      "Accuracy of the model:\n",
      "78.26086956521739\n"
     ]
    }
   ],
   "source": [
    "print(\"Results of predictions:\")\n",
    "print(obj_predicted)\n",
    "\n",
    "\n",
    "print(\"Accuracy of the model:\")\n",
    "print(acc_score * 100)\n"
   ]
  },
  {
   "cell_type": "markdown",
   "id": "2ad3b116",
   "metadata": {},
   "source": [
    "The model has achieved a 73% accuracy level\n",
    "Still can be adjusted to make better predictions with our data."
   ]
  },
  {
   "cell_type": "markdown",
   "id": "434ae7c5",
   "metadata": {},
   "source": [
    "Now let's visualize the results using the matplotlib library"
   ]
  },
  {
   "cell_type": "code",
   "execution_count": 47,
   "id": "0b84ef2f",
   "metadata": {},
   "outputs": [],
   "source": [
    "#Matplotlib library\n",
    "import matplotlib.pyplot as plt"
   ]
  },
  {
   "cell_type": "code",
   "execution_count": 48,
   "id": "deccf506",
   "metadata": {},
   "outputs": [
    {
     "data": {
      "text/plain": [
       "<matplotlib.collections.PathCollection at 0x152c6122710>"
      ]
     },
     "execution_count": 48,
     "metadata": {},
     "output_type": "execute_result"
    },
    {
     "data": {
      "image/png": "[encoded data removed]",
      "text/plain": [
       "<Figure size 640x480 with 1 Axes>"
      ]
     },
     "metadata": {},
     "output_type": "display_data"
    }
   ],
   "source": [
    "plt.scatter(y_test,obj_predicted)"
   ]
  },
  {
   "cell_type": "code",
   "execution_count": null,
   "id": "1ed7957d",
   "metadata": {},
   "outputs": [],
   "source": []
  }
 ],
 "metadata": {
  "kernelspec": {
   "display_name": "Python 3",
   "language": "python",
   "name": "python3"
  },
  "language_info": {
   "codemirror_mode": {
    "name": "ipython",
    "version": 3
   },
   "file_extension": ".py",
   "mimetype": "text/x-python",
   "name": "python",
   "nbconvert_exporter": "python",
   "pygments_lexer": "ipython3",
   "version": "3.13.7"
  }
 },
 "nbformat": 4,
 "nbformat_minor": 5
}

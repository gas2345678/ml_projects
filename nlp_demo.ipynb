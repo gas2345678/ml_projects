{
 "cells": [
  {
   "cell_type": "code",
   "execution_count": null,
   "id": "1f37b01e",
   "metadata": {},
   "outputs": [],
   "source": [
    "from nltk.sentiment import sentiment_analyzer\n",
    "from nltk.tokenize import word_tokenize\n",
    "import requests as re"
   ]
  },
  {
   "cell_type": "markdown",
   "id": "6d95be79",
   "metadata": {},
   "source": [
    "Here are some text samples to process"
   ]
  },
  {
   "cell_type": "code",
   "execution_count": null,
   "id": "5372d839",
   "metadata": {},
   "outputs": [],
   "source": [
    "doc_animals= \"There is an example of many animals like dogs, cats, elephants,parrots, apes etc\"\n",
    "\n",
    "\n",
    "videogames = \"The best games of 2010-2020 decade are:\" \\\n",
    "\"The last of us- 2013\" \\\n",
    "\"GTA: San andreas- 2004\" \\\n",
    "\"Red dead Redemption- 2018\" \\\n",
    "\"As you can see, these are just examples, but there are many recognized AAA videogames around there.\"\n",
    "\n",
    "\n",
    "companies = \"The most richest companies are\" \\\n",
    "\"Google\" \\\n",
    "\"Facebook\" \\\n",
    "\"Space-x\" \\\n",
    "\"Amazon\" \\\n",
    "\"Twitter\" \\\n",
    "\"Netflix\" \\\n"
   ]
  },
  {
   "cell_type": "markdown",
   "id": "617c669f",
   "metadata": {},
   "source": [
    "To gather more information to process, we will make a request to this blog to get information about the netflix trends during the period of 2025 and apply a sentiment analysis for the different shows."
   ]
  },
  {
   "cell_type": "markdown",
   "id": "fe8af4b2",
   "metadata": {},
   "source": [
    "We will create a function to perform these operations."
   ]
  },
  {
   "cell_type": "code",
   "execution_count": null,
   "id": "e87efe29",
   "metadata": {},
   "outputs": [],
   "source": [
    "def gather_info(request):\n",
    "    gather_attem = re.get(request)\n",
    "    if gather_attem.status_code == 200:\n",
    "        req_content = gather_attem.content\n",
    "        for word in req_content.center:\n",
    "            word_tokenize(word)\n",
    "            sentiment_analyzer.apply_features(word)\n"
   ]
  }
 ],
 "metadata": {
  "kernelspec": {
   "display_name": "Python 3",
   "language": "python",
   "name": "python3"
  },
  "language_info": {
   "codemirror_mode": {
    "name": "ipython",
    "version": 3
   },
   "file_extension": ".py",
   "mimetype": "text/x-python",
   "name": "python",
   "nbconvert_exporter": "python",
   "pygments_lexer": "ipython3",
   "version": "3.13.7"
  }
 },
 "nbformat": 4,
 "nbformat_minor": 5
}

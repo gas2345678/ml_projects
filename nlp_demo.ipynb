{
 "cells": [
  {
   "cell_type": "code",
   "execution_count": null,
   "id": "1f37b01e",
   "metadata": {},
   "outputs": [],
   "source": [
    "from nltk.tokenize import *\n",
    "import requests as re"
   ]
  },
  {
   "cell_type": "markdown",
   "id": "6d95be79",
   "metadata": {},
   "source": [
    "Here are some text samples to process"
   ]
  },
  {
   "cell_type": "code",
   "execution_count": null,
   "id": "5372d839",
   "metadata": {},
   "outputs": [],
   "source": [
    "doc_animals= \"There is an example of many animals like dogs, cats, elephants,parrots, apes etc\"\n",
    "\n",
    "\n",
    "videogames = \"The best games of 2010-2020 decade are:\" \\\n",
    "\"The last of us- 2013\" \\\n",
    "\"GTA: San andreas- 2004\" \\\n",
    "\"Red dead Redemption- 2018\" \\\n",
    "\"As you can see, these are just examples, but there are many recognized AAA videogames around there.\"\n",
    "\n",
    "\n",
    "companies = \"The most richest companies are\" \\\n",
    "\"Google\" \\\n",
    "\"Facebook\" \\\n",
    "\"Space-x\" \\\n",
    "\"Amazon\" \\\n",
    "\"Twitter\" \\\n",
    "\"Netflix\" \\\n"
   ]
  },
  {
   "cell_type": "markdown",
   "id": "617c669f",
   "metadata": {},
   "source": [
    "To gather more information to process, we will make a request to this blog to get information about the netflix trends during the period of September 2025"
   ]
  },
  {
   "cell_type": "code",
   "execution_count": null,
   "id": "e87efe29",
   "metadata": {},
   "outputs": [],
   "source": [
    "netflix_re = re.get(\"https://www.whats-on-netflix.com/whats-new/\")\n"
   ]
  }
 ],
 "metadata": {
  "language_info": {
   "name": "python"
  }
 },
 "nbformat": 4,
 "nbformat_minor": 5
}

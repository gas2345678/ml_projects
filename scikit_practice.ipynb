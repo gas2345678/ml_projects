{
 "cells": [
  {
   "cell_type": "markdown",
   "id": "12ec8314",
   "metadata": {},
   "source": [
    "### Titanic analysis\n",
    "This project focus on building a knn neighbor classifier model to be able to predict which passengers will survive to the titanic sinking.\n",
    "\n",
    "The model will try to classify if the passenger survive or not depending on the important variables which can influence in this result."
   ]
  },
  {
   "cell_type": "code",
   "execution_count": null,
   "id": "b17a47fe",
   "metadata": {},
   "outputs": [],
   "source": [
    "import pandas as pd\n",
    "import sklearn\n",
    "from sklearn.model_selection import train_test_split,GridSearchCV\n",
    "from sklearn.linear_model import LogisticRegression\n",
    "from sklearn.metrics import accuracy_score\n"
   ]
  },
  {
   "cell_type": "code",
   "execution_count": 2,
   "id": "8cf01222",
   "metadata": {},
   "outputs": [],
   "source": [
    "\n",
    "#We import the dataset\n",
    "df = pd.read_csv(r\"c:\\Users\\PC\\Downloads\\Titanic-Dataset.csv\")"
   ]
  },
  {
   "cell_type": "code",
   "execution_count": 3,
   "id": "aa138fdb",
   "metadata": {},
   "outputs": [],
   "source": [
    "#We create a dataframe\n",
    "df = pd.DataFrame(df)"
   ]
  },
  {
   "cell_type": "code",
   "execution_count": 4,
   "id": "af253152",
   "metadata": {},
   "outputs": [],
   "source": [
    "#drop null values\n",
    "df = df.dropna()"
   ]
  },
  {
   "cell_type": "code",
   "execution_count": 5,
   "id": "ccc14667",
   "metadata": {},
   "outputs": [
    {
     "name": "stdout",
     "output_type": "stream",
     "text": [
      "    PassengerId  Survived  Pclass  \\\n",
      "1             2         1       1   \n",
      "3             4         1       1   \n",
      "6             7         0       1   \n",
      "10           11         1       3   \n",
      "11           12         1       1   \n",
      "\n",
      "                                                 Name     Sex   Age  SibSp  \\\n",
      "1   Cumings, Mrs. John Bradley (Florence Briggs Th...  female  38.0      1   \n",
      "3        Futrelle, Mrs. Jacques Heath (Lily May Peel)  female  35.0      1   \n",
      "6                             McCarthy, Mr. Timothy J    male  54.0      0   \n",
      "10                    Sandstrom, Miss. Marguerite Rut  female   4.0      1   \n",
      "11                           Bonnell, Miss. Elizabeth  female  58.0      0   \n",
      "\n",
      "    Parch    Ticket     Fare Cabin Embarked  \n",
      "1       0  PC 17599  71.2833   C85        C  \n",
      "3       0    113803  53.1000  C123        S  \n",
      "6       0     17463  51.8625   E46        S  \n",
      "10      1   PP 9549  16.7000    G6        S  \n",
      "11      0    113783  26.5500  C103        S  \n"
     ]
    }
   ],
   "source": [
    "\n",
    "#We display the first few rows of the dataframe\n",
    "print(df.head())"
   ]
  },
  {
   "cell_type": "code",
   "execution_count": 6,
   "id": "d2d3a3d1",
   "metadata": {},
   "outputs": [
    {
     "name": "stdout",
     "output_type": "stream",
     "text": [
      "(183, 12)\n"
     ]
    }
   ],
   "source": [
    "#Display the shape of the dataframe\n",
    "print(df.shape)"
   ]
  },
  {
   "cell_type": "code",
   "execution_count": 7,
   "id": "33cba239",
   "metadata": {},
   "outputs": [
    {
     "name": "stdout",
     "output_type": "stream",
     "text": [
      "Key aspects\n",
      "       PassengerId    Survived      Pclass         Age       SibSp  \\\n",
      "count   183.000000  183.000000  183.000000  183.000000  183.000000   \n",
      "mean    455.366120    0.672131    1.191257   35.674426    0.464481   \n",
      "std     247.052476    0.470725    0.515187   15.643866    0.644159   \n",
      "min       2.000000    0.000000    1.000000    0.920000    0.000000   \n",
      "25%     263.500000    0.000000    1.000000   24.000000    0.000000   \n",
      "50%     457.000000    1.000000    1.000000   36.000000    0.000000   \n",
      "75%     676.000000    1.000000    1.000000   47.500000    1.000000   \n",
      "max     890.000000    1.000000    3.000000   80.000000    3.000000   \n",
      "\n",
      "            Parch        Fare  \n",
      "count  183.000000  183.000000  \n",
      "mean     0.475410   78.682469  \n",
      "std      0.754617   76.347843  \n",
      "min      0.000000    0.000000  \n",
      "25%      0.000000   29.700000  \n",
      "50%      0.000000   57.000000  \n",
      "75%      1.000000   90.000000  \n",
      "max      4.000000  512.329200  \n",
      "<class 'pandas.core.frame.DataFrame'>\n",
      "Index: 183 entries, 1 to 889\n",
      "Data columns (total 12 columns):\n",
      " #   Column       Non-Null Count  Dtype  \n",
      "---  ------       --------------  -----  \n",
      " 0   PassengerId  183 non-null    int64  \n",
      " 1   Survived     183 non-null    int64  \n",
      " 2   Pclass       183 non-null    int64  \n",
      " 3   Name         183 non-null    object \n",
      " 4   Sex          183 non-null    object \n",
      " 5   Age          183 non-null    float64\n",
      " 6   SibSp        183 non-null    int64  \n",
      " 7   Parch        183 non-null    int64  \n",
      " 8   Ticket       183 non-null    object \n",
      " 9   Fare         183 non-null    float64\n",
      " 10  Cabin        183 non-null    object \n",
      " 11  Embarked     183 non-null    object \n",
      "dtypes: float64(2), int64(5), object(5)\n",
      "memory usage: 18.6+ KB\n",
      "None\n"
     ]
    }
   ],
   "source": [
    "#Overview of the dataframe\n",
    "print(\"Key aspects\")\n",
    "print(df.describe())\n",
    "print(df.info())"
   ]
  },
  {
   "cell_type": "code",
   "execution_count": 8,
   "id": "764e8519",
   "metadata": {},
   "outputs": [],
   "source": [
    "#Change sex values to 0 and 1\n",
    "\n",
    "df[\"Sex\"] = df[\"Sex\"].map({\"male\": 0, \"female\": 1})"
   ]
  },
  {
   "cell_type": "markdown",
   "id": "e8bfe612",
   "metadata": {},
   "source": [
    "We will drop variables like PassengerId or Ticket cause they don´t have any relevance in the survival probability"
   ]
  },
  {
   "cell_type": "code",
   "execution_count": 9,
   "id": "8ce01777",
   "metadata": {},
   "outputs": [],
   "source": [
    "#Use the important columns for the analysis\n",
    "\n",
    "x=  df.drop(columns=[\"Ticket\",\"Cabin\",\"Fare\",\"Name\",\"PassengerId\",\"SibSp\",\"Parch\",\"Age\",\"Survived\",\"Embarked\"])\n",
    "\n",
    "y=df[\"Survived\"]"
   ]
  },
  {
   "cell_type": "code",
   "execution_count": 10,
   "id": "8a9f8e7f",
   "metadata": {},
   "outputs": [],
   "source": [
    "\n",
    "#Divide our train and test data \n",
    "\n",
    "x_train,x_test,y_train,y_test = train_test_split(x,y,test_size=0.25)"
   ]
  },
  {
   "cell_type": "markdown",
   "id": "2daed997",
   "metadata": {},
   "source": [
    "Here is an overview of the training data and the testing data of the model."
   ]
  },
  {
   "cell_type": "code",
   "execution_count": 11,
   "id": "2ef7eb77",
   "metadata": {},
   "outputs": [
    {
     "name": "stdout",
     "output_type": "stream",
     "text": [
      "Training data\n",
      "     Pclass  Sex\n",
      "366       1    1\n",
      "700       1    1\n",
      "689       1    1\n",
      "698       1    0\n",
      "763       1    1\n",
      "Testing data\n",
      "     Pclass  Sex\n",
      "215       1    1\n",
      "453       1    0\n",
      "857       1    0\n",
      "550       1    0\n",
      "556       1    1\n"
     ]
    }
   ],
   "source": [
    "#Training and testing overview\n",
    "\n",
    "print(\"Training data\")\n",
    "print(x_train.head())\n",
    "print(\"Testing data\")\n",
    "print(x_test.head())"
   ]
  },
  {
   "cell_type": "code",
   "execution_count": 12,
   "id": "9511b751",
   "metadata": {},
   "outputs": [],
   "source": [
    "\n",
    "#Create an instance of the logistic regression model\n",
    "lg_model = LogisticRegression()"
   ]
  },
  {
   "cell_type": "code",
   "execution_count": 13,
   "id": "0d0bfd1e",
   "metadata": {},
   "outputs": [],
   "source": [
    "\n",
    "# Fit the model with the  training data\n",
    "lg_model.fit(x_train,y_train)\n",
    "obj_predicted = lg_model.predict(x_test)"
   ]
  },
  {
   "cell_type": "code",
   "execution_count": 14,
   "id": "02e42d1e",
   "metadata": {},
   "outputs": [
    {
     "name": "stdout",
     "output_type": "stream",
     "text": [
      "Results of predictions:\n",
      "[1 0 0 0 1 0 1 1 0 0 1 0 1 0 0 0 0 0 1 0 0 1 1 0 1 0 1 1 0 0 1 1 0 0 0 1 1\n",
      " 0 1 0 1 1 1 1 1 0]\n",
      "Accuracy of the model:\n",
      "0.6521739130434783\n"
     ]
    }
   ],
   "source": [
    "print(\"Results of predictions:\")\n",
    "print(obj_predicted)\n",
    "\n",
    "\n",
    "print(\"Accuracy of the model:\")\n",
    "print(accuracy_score(y_test,obj_predicted))"
   ]
  },
  {
   "cell_type": "markdown",
   "id": "434ae7c5",
   "metadata": {},
   "source": [
    "Now let's visualize the results using the matplotlib library"
   ]
  },
  {
   "cell_type": "code",
   "execution_count": 15,
   "id": "0b84ef2f",
   "metadata": {},
   "outputs": [],
   "source": [
    "#Matplotlib library\n",
    "import matplotlib.pyplot as plt"
   ]
  },
  {
   "cell_type": "code",
   "execution_count": 16,
   "id": "deccf506",
   "metadata": {},
   "outputs": [
    {
     "data": {
      "text/plain": [
       "<matplotlib.collections.PathCollection at 0x22a3834af90>"
      ]
     },
     "execution_count": 16,
     "metadata": {},
     "output_type": "execute_result"
    },
    {
     "data": {
      "image/png": "[encoded data removed]",
      "text/plain": [
       "<Figure size 640x480 with 1 Axes>"
      ]
     },
     "metadata": {},
     "output_type": "display_data"
    }
   ],
   "source": [
    "plt.scatter(y_test,obj_predicted)"
   ]
  },
  {
   "cell_type": "code",
   "execution_count": null,
   "id": "1ed7957d",
   "metadata": {},
   "outputs": [],
   "source": []
  }
 ],
 "metadata": {
  "kernelspec": {
   "display_name": "Python 3",
   "language": "python",
   "name": "python3"
  },
  "language_info": {
   "codemirror_mode": {
    "name": "ipython",
    "version": 3
   },
   "file_extension": ".py",
   "mimetype": "text/x-python",
   "name": "python",
   "nbconvert_exporter": "python",
   "pygments_lexer": "ipython3",
   "version": "3.13.7"
  }
 },
 "nbformat": 4,
 "nbformat_minor": 5
}

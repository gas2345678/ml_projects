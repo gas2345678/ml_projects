{
 "cells": [
  {
   "cell_type": "code",
   "execution_count": 1,
   "id": "1f37b01e",
   "metadata": {},
   "outputs": [],
   "source": [
    "from nltk.sentiment import sentiment_analyzer\n",
    "from nltk.tokenize import word_tokenize\n",
    "from nltk.stem import WordNetLemmatizer\n",
    "from bs4 import BeautifulSoup\n",
    "import requests as re"
   ]
  },
  {
   "cell_type": "markdown",
   "id": "6d95be79",
   "metadata": {},
   "source": [
    "Here are some text samples to process"
   ]
  },
  {
   "cell_type": "code",
   "execution_count": 2,
   "id": "5372d839",
   "metadata": {},
   "outputs": [],
   "source": [
    "doc_animals= \"There is an example of many animals like dogs, cats, elephants, parrots, apes etc\"\n",
    "\n",
    "\n",
    "videogames = \"The best games of 2010-2020 decade are:\" \\\n",
    "\"The last of us- 2013\" \\\n",
    "\"GTA: San andreas- 2004\" \\\n",
    "\"Red dead Redemption- 2018\" \\\n",
    "\"As you can see, these are just examples, but there are many recognized AAA videogames around there.\"\n"
   ]
  },
  {
   "cell_type": "code",
   "execution_count": 3,
   "id": "2f50fd2b",
   "metadata": {},
   "outputs": [],
   "source": [
    "lemmatizer = WordNetLemmatizer()"
   ]
  },
  {
   "cell_type": "code",
   "execution_count": 4,
   "id": "2543c20b",
   "metadata": {},
   "outputs": [
    {
     "name": "stdout",
     "output_type": "stream",
     "text": [
      "['There', 'is', 'an', 'example', 'of', 'many', 'animals', 'like', 'dogs', ',', 'cats', ',', 'elephants', ',', 'parrots', ',', 'apes', 'etc']\n"
     ]
    }
   ],
   "source": [
    "tokenized_words = word_tokenize(text=doc_animals,preserve_line=True,language=\"english\")\n",
    "print(tokenized_words)"
   ]
  },
  {
   "cell_type": "code",
   "execution_count": 5,
   "id": "6a06a220",
   "metadata": {},
   "outputs": [
    {
     "name": "stdout",
     "output_type": "stream",
     "text": [
      "['The', 'best', 'games', 'of', '2010-2020', 'decade', 'are', ':', 'The', 'last', 'of', 'us-', '2013GTA', ':', 'San', 'andreas-', '2004Red', 'dead', 'Redemption-', '2018As', 'you', 'can', 'see', ',', 'these', 'are', 'just', 'examples', ',', 'but', 'there', 'are', 'many', 'recognized', 'AAA', 'videogames', 'around', 'there', '.']\n"
     ]
    }
   ],
   "source": [
    "tokenized_games = word_tokenize(text=videogames,language=\"english\",preserve_line=True)\n",
    "print(tokenized_games)"
   ]
  },
  {
   "cell_type": "markdown",
   "id": "617c669f",
   "metadata": {},
   "source": [
    "To gather more information to process, we will make a request to this blog to get information about the netflix trends during the period of 2025 and apply a sentiment analysis for the different shows."
   ]
  },
  {
   "cell_type": "markdown",
   "id": "fe8af4b2",
   "metadata": {},
   "source": [
    "We will create a function to perform these operations."
   ]
  },
  {
   "cell_type": "code",
   "execution_count": 22,
   "id": "e87efe29",
   "metadata": {},
   "outputs": [],
   "source": [
    "def gather_info(url):\n",
    "    response = re.get(url)\n",
    "    soup = BeautifulSoup(response.content,'html.parser')\n",
    "    paragraphs = soup.find_all('p')\n",
    "    article_text = ' '.join([para.get_text() for para in paragraphs])\n",
    "    print(article_text)\n"
   ]
  },
  {
   "cell_type": "code",
   "execution_count": 21,
   "id": "9429e090",
   "metadata": {},
   "outputs": [
    {
     "name": "stdout",
     "output_type": "stream",
     "text": [
      "It will amount to the biggest test of his presidential authority and his signature economic policy. Who impressed for England in their 5-0 World Cup qualifier win against Serbia? Sami Mokbel rates the players. Scott Boyd died at the scene and another man was found injured after an incident in the village of Kirkmuirhill last month. The PM will stress the \"the action Israel must take to end the horrific suffering\" in Gaza, No 10 said. England's World Cup qualifier against Serbia in Belgrade is briefly paused by the referee when a laser pen is shone from the crowd in Ezri Konsa's face. Cape Verde are one win away from qualifying for the Fifa World Cup for the first time but Cameroon and Nigeria could miss out on the finals. The first minister wants the lucrative Scottish export to be exempt from US tariffs on goods from the UK.  Steve Aiken asked Nuala McAllister to apologise after she called him \"patronising\", but she refused. The ripple effects of the Angela Rayner saga roll on as six candidates make their pitch for deputy. Copyright 2025 BBC. All rights reserved. The BBC is not responsible for the content of external sites. Read about our approach to external linking.  \n"
     ]
    }
   ],
   "source": [
    "gather_info(\"https://www.bbc.com/news/world-us-canada-66707392\")"
   ]
  }
 ],
 "metadata": {
  "kernelspec": {
   "display_name": "Python 3",
   "language": "python",
   "name": "python3"
  },
  "language_info": {
   "codemirror_mode": {
    "name": "ipython",
    "version": 3
   },
   "file_extension": ".py",
   "mimetype": "text/x-python",
   "name": "python",
   "nbconvert_exporter": "python",
   "pygments_lexer": "ipython3",
   "version": "3.13.7"
  }
 },
 "nbformat": 4,
 "nbformat_minor": 5
}

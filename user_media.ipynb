{
 "cells": [
  {
   "cell_type": "code",
   "execution_count": 162,
   "id": "7d420986",
   "metadata": {},
   "outputs": [],
   "source": [
    "import numpy as np\n",
    "import pandas as pd\n",
    "import matplotlib.pyplot as plt\n",
    "from sklearn.tree import DecisionTreeClassifier\n",
    "from sklearn.model_selection import train_test_split\n",
    "from sklearn.metrics import accuracy_score,precision_score"
   ]
  },
  {
   "cell_type": "code",
   "execution_count": 163,
   "id": "a9ddc03a",
   "metadata": {},
   "outputs": [],
   "source": [
    "df = pd.read_csv(r\"c:\\Users\\PC\\Downloads\\users.csv\")"
   ]
  },
  {
   "cell_type": "markdown",
   "id": "29526182",
   "metadata": {},
   "source": [
    "dataframe overview"
   ]
  },
  {
   "cell_type": "code",
   "execution_count": 164,
   "id": "4ae81a92",
   "metadata": {},
   "outputs": [
    {
     "data": {
      "text/html": [
       "<div>\n",
       "<style scoped>\n",
       "    .dataframe tbody tr th:only-of-type {\n",
       "        vertical-align: middle;\n",
       "    }\n",
       "\n",
       "    .dataframe tbody tr th {\n",
       "        vertical-align: top;\n",
       "    }\n",
       "\n",
       "    .dataframe thead th {\n",
       "        text-align: right;\n",
       "    }\n",
       "</style>\n",
       "<table border=\"1\" class=\"dataframe\">\n",
       "  <thead>\n",
       "    <tr style=\"text-align: right;\">\n",
       "      <th></th>\n",
       "      <th>user_id</th>\n",
       "      <th>user_gender</th>\n",
       "      <th>user_age</th>\n",
       "      <th>age_group</th>\n",
       "      <th>country</th>\n",
       "      <th>location</th>\n",
       "      <th>interests</th>\n",
       "    </tr>\n",
       "  </thead>\n",
       "  <tbody>\n",
       "    <tr>\n",
       "      <th>0</th>\n",
       "      <td>a2474</td>\n",
       "      <td>Female</td>\n",
       "      <td>24</td>\n",
       "      <td>18-24</td>\n",
       "      <td>United Kingdom</td>\n",
       "      <td>New Mariomouth</td>\n",
       "      <td>fitness, health</td>\n",
       "    </tr>\n",
       "    <tr>\n",
       "      <th>1</th>\n",
       "      <td>141e5</td>\n",
       "      <td>Male</td>\n",
       "      <td>21</td>\n",
       "      <td>18-24</td>\n",
       "      <td>Germany</td>\n",
       "      <td>Danielsfort</td>\n",
       "      <td>food, fitness, lifestyle</td>\n",
       "    </tr>\n",
       "    <tr>\n",
       "      <th>2</th>\n",
       "      <td>34db0</td>\n",
       "      <td>Male</td>\n",
       "      <td>27</td>\n",
       "      <td>25-34</td>\n",
       "      <td>Australia</td>\n",
       "      <td>Vincentchester</td>\n",
       "      <td>fashion, news</td>\n",
       "    </tr>\n",
       "    <tr>\n",
       "      <th>3</th>\n",
       "      <td>20d08</td>\n",
       "      <td>Female</td>\n",
       "      <td>28</td>\n",
       "      <td>25-34</td>\n",
       "      <td>India</td>\n",
       "      <td>Lisaport</td>\n",
       "      <td>health, news, finance</td>\n",
       "    </tr>\n",
       "    <tr>\n",
       "      <th>4</th>\n",
       "      <td>9e830</td>\n",
       "      <td>Male</td>\n",
       "      <td>28</td>\n",
       "      <td>25-34</td>\n",
       "      <td>United States</td>\n",
       "      <td>Brownmouth</td>\n",
       "      <td>health, photography, lifestyle</td>\n",
       "    </tr>\n",
       "  </tbody>\n",
       "</table>\n",
       "</div>"
      ],
      "text/plain": [
       "  user_id user_gender  user_age age_group         country        location  \\\n",
       "0   a2474      Female        24     18-24  United Kingdom  New Mariomouth   \n",
       "1   141e5        Male        21     18-24         Germany     Danielsfort   \n",
       "2   34db0        Male        27     25-34       Australia  Vincentchester   \n",
       "3   20d08      Female        28     25-34           India        Lisaport   \n",
       "4   9e830        Male        28     25-34   United States      Brownmouth   \n",
       "\n",
       "                        interests  \n",
       "0                 fitness, health  \n",
       "1        food, fitness, lifestyle  \n",
       "2                   fashion, news  \n",
       "3           health, news, finance  \n",
       "4  health, photography, lifestyle  "
      ]
     },
     "execution_count": 164,
     "metadata": {},
     "output_type": "execute_result"
    }
   ],
   "source": [
    "df.head()"
   ]
  },
  {
   "cell_type": "markdown",
   "id": "64e925bc",
   "metadata": {},
   "source": [
    "dataframe shape "
   ]
  },
  {
   "cell_type": "code",
   "execution_count": 165,
   "id": "e9ac37e1",
   "metadata": {},
   "outputs": [
    {
     "data": {
      "text/plain": [
       "(10000, 7)"
      ]
     },
     "execution_count": 165,
     "metadata": {},
     "output_type": "execute_result"
    }
   ],
   "source": [
    "df.shape"
   ]
  },
  {
   "cell_type": "code",
   "execution_count": 166,
   "id": "3c0d122e",
   "metadata": {},
   "outputs": [
    {
     "data": {
      "text/html": [
       "<div>\n",
       "<style scoped>\n",
       "    .dataframe tbody tr th:only-of-type {\n",
       "        vertical-align: middle;\n",
       "    }\n",
       "\n",
       "    .dataframe tbody tr th {\n",
       "        vertical-align: top;\n",
       "    }\n",
       "\n",
       "    .dataframe thead th {\n",
       "        text-align: right;\n",
       "    }\n",
       "</style>\n",
       "<table border=\"1\" class=\"dataframe\">\n",
       "  <thead>\n",
       "    <tr style=\"text-align: right;\">\n",
       "      <th></th>\n",
       "      <th>user_age</th>\n",
       "    </tr>\n",
       "  </thead>\n",
       "  <tbody>\n",
       "    <tr>\n",
       "      <th>count</th>\n",
       "      <td>10000.000000</td>\n",
       "    </tr>\n",
       "    <tr>\n",
       "      <th>mean</th>\n",
       "      <td>27.646900</td>\n",
       "    </tr>\n",
       "    <tr>\n",
       "      <th>std</th>\n",
       "      <td>8.311686</td>\n",
       "    </tr>\n",
       "    <tr>\n",
       "      <th>min</th>\n",
       "      <td>16.000000</td>\n",
       "    </tr>\n",
       "    <tr>\n",
       "      <th>25%</th>\n",
       "      <td>21.000000</td>\n",
       "    </tr>\n",
       "    <tr>\n",
       "      <th>50%</th>\n",
       "      <td>26.000000</td>\n",
       "    </tr>\n",
       "    <tr>\n",
       "      <th>75%</th>\n",
       "      <td>32.000000</td>\n",
       "    </tr>\n",
       "    <tr>\n",
       "      <th>max</th>\n",
       "      <td>65.000000</td>\n",
       "    </tr>\n",
       "  </tbody>\n",
       "</table>\n",
       "</div>"
      ],
      "text/plain": [
       "           user_age\n",
       "count  10000.000000\n",
       "mean      27.646900\n",
       "std        8.311686\n",
       "min       16.000000\n",
       "25%       21.000000\n",
       "50%       26.000000\n",
       "75%       32.000000\n",
       "max       65.000000"
      ]
     },
     "execution_count": 166,
     "metadata": {},
     "output_type": "execute_result"
    }
   ],
   "source": [
    "df.describe()"
   ]
  },
  {
   "cell_type": "markdown",
   "id": "827a7c53",
   "metadata": {},
   "source": [
    "To perform a realistic prediction of users preferences for certain products, we will select variables like country, age group to discover what kind of campaign would be\n",
    " \n",
    "appropiate to launch."
   ]
  },
  {
   "cell_type": "code",
   "execution_count": 167,
   "id": "76aeca84",
   "metadata": {},
   "outputs": [],
   "source": [
    "X = df[['country', 'age_group','user_age']]\n",
    "y = df[\"interests\"]\n",
    "\n",
    "X = pd.get_dummies(X)"
   ]
  },
  {
   "cell_type": "code",
   "execution_count": null,
   "id": "ecca2368",
   "metadata": {},
   "outputs": [
    {
     "data": {
      "text/plain": [
       "{'ccp_alpha': 0.0,\n",
       " 'class_weight': None,\n",
       " 'criterion': 'gini',\n",
       " 'max_depth': None,\n",
       " 'max_features': None,\n",
       " 'max_leaf_nodes': None,\n",
       " 'min_impurity_decrease': 0.0,\n",
       " 'min_samples_leaf': 1,\n",
       " 'min_samples_split': 2,\n",
       " 'min_weight_fraction_leaf': 0.0,\n",
       " 'monotonic_cst': None,\n",
       " 'random_state': 123,\n",
       " 'splitter': 'best'}"
      ]
     },
     "execution_count": 168,
     "metadata": {},
     "output_type": "execute_result"
    }
   ],
   "source": [
    "fclassifier = DecisionTreeClassifier(random_state=123)"
   ]
  },
  {
   "cell_type": "markdown",
   "id": "c0c82882",
   "metadata": {},
   "source": [
    "divide our data into training and testing data"
   ]
  },
  {
   "cell_type": "code",
   "execution_count": 169,
   "id": "651fc4c0",
   "metadata": {},
   "outputs": [],
   "source": [
    "x_train,x_test,y_train,y_test = train_test_split(X,y,test_size=0.25,random_state=42)"
   ]
  },
  {
   "cell_type": "markdown",
   "id": "09a65edd",
   "metadata": {},
   "source": [
    "Train the model"
   ]
  }
 ],
 "metadata": {
  "kernelspec": {
   "display_name": "Python 3",
   "language": "python",
   "name": "python3"
  },
  "language_info": {
   "codemirror_mode": {
    "name": "ipython",
    "version": 3
   },
   "file_extension": ".py",
   "mimetype": "text/x-python",
   "name": "python",
   "nbconvert_exporter": "python",
   "pygments_lexer": "ipython3",
   "version": "3.13.7"
  }
 },
 "nbformat": 4,
 "nbformat_minor": 5
}
